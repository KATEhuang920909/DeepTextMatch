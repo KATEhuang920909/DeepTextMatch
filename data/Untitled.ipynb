{
 "cells": [
  {
   "cell_type": "code",
   "execution_count": 16,
   "metadata": {},
   "outputs": [],
   "source": [
    "import pandas as pd"
   ]
  },
  {
   "cell_type": "code",
   "execution_count": 23,
   "metadata": {},
   "outputs": [],
   "source": [
    "data1=pd.read_csv(r'train.csv',sep=',',header=None)\n",
    "data2=pd.read_csv(r'dev.csv',sep=',',header=None)"
   ]
  },
  {
   "cell_type": "code",
   "execution_count": 24,
   "metadata": {},
   "outputs": [
    {
     "data": {
      "text/html": [
       "<div>\n",
       "<style scoped>\n",
       "    .dataframe tbody tr th:only-of-type {\n",
       "        vertical-align: middle;\n",
       "    }\n",
       "\n",
       "    .dataframe tbody tr th {\n",
       "        vertical-align: top;\n",
       "    }\n",
       "\n",
       "    .dataframe thead th {\n",
       "        text-align: right;\n",
       "    }\n",
       "</style>\n",
       "<table border=\"1\" class=\"dataframe\">\n",
       "  <thead>\n",
       "    <tr style=\"text-align: right;\">\n",
       "      <th></th>\n",
       "      <th>0</th>\n",
       "      <th>1</th>\n",
       "      <th>2</th>\n",
       "    </tr>\n",
       "  </thead>\n",
       "  <tbody>\n",
       "    <tr>\n",
       "      <th>0</th>\n",
       "      <td>怎么看花呗怎么花的</td>\n",
       "      <td>花呗分期怎么查分的那些商品</td>\n",
       "      <td>0</td>\n",
       "    </tr>\n",
       "    <tr>\n",
       "      <th>1</th>\n",
       "      <td>我在超市支付宝付款也是用的花呗吗</td>\n",
       "      <td>在超市可以使用花呗额数大的商品</td>\n",
       "      <td>0</td>\n",
       "    </tr>\n",
       "    <tr>\n",
       "      <th>2</th>\n",
       "      <td>我刚刚用花呗支付，为什么商家没有收到款</td>\n",
       "      <td>刚才点外卖花呗付款***元优惠***元 实付***元 商家说没有收到款</td>\n",
       "      <td>1</td>\n",
       "    </tr>\n",
       "    <tr>\n",
       "      <th>3</th>\n",
       "      <td>我的蚂蚁借呗分期还款，每月怎么还</td>\n",
       "      <td>借呗可以的分期还嘛</td>\n",
       "      <td>0</td>\n",
       "    </tr>\n",
       "    <tr>\n",
       "      <th>4</th>\n",
       "      <td>我的花呗还了吗</td>\n",
       "      <td>花呗可以替还</td>\n",
       "      <td>0</td>\n",
       "    </tr>\n",
       "  </tbody>\n",
       "</table>\n",
       "</div>"
      ],
      "text/plain": [
       "                     0                                    1  2\n",
       "0            怎么看花呗怎么花的                        花呗分期怎么查分的那些商品  0\n",
       "1     我在超市支付宝付款也是用的花呗吗                      在超市可以使用花呗额数大的商品  0\n",
       "2  我刚刚用花呗支付，为什么商家没有收到款  刚才点外卖花呗付款***元优惠***元 实付***元 商家说没有收到款  1\n",
       "3     我的蚂蚁借呗分期还款，每月怎么还                            借呗可以的分期还嘛  0\n",
       "4              我的花呗还了吗                               花呗可以替还  0"
      ]
     },
     "execution_count": 24,
     "metadata": {},
     "output_type": "execute_result"
    }
   ],
   "source": [
    "data1.head()"
   ]
  },
  {
   "cell_type": "code",
   "execution_count": 25,
   "metadata": {},
   "outputs": [
    {
     "data": {
      "text/html": [
       "<div>\n",
       "<style scoped>\n",
       "    .dataframe tbody tr th:only-of-type {\n",
       "        vertical-align: middle;\n",
       "    }\n",
       "\n",
       "    .dataframe tbody tr th {\n",
       "        vertical-align: top;\n",
       "    }\n",
       "\n",
       "    .dataframe thead th {\n",
       "        text-align: right;\n",
       "    }\n",
       "</style>\n",
       "<table border=\"1\" class=\"dataframe\">\n",
       "  <thead>\n",
       "    <tr style=\"text-align: right;\">\n",
       "      <th></th>\n",
       "      <th>0</th>\n",
       "      <th>1</th>\n",
       "      <th>2</th>\n",
       "    </tr>\n",
       "  </thead>\n",
       "  <tbody>\n",
       "    <tr>\n",
       "      <th>0</th>\n",
       "      <td>我购买的是信用卡付款为什么会花呗叫我还款</td>\n",
       "      <td>花呗账单里的东西，我已经付过款了，为什么花呗还要我还款</td>\n",
       "      <td>1</td>\n",
       "    </tr>\n",
       "    <tr>\n",
       "      <th>1</th>\n",
       "      <td>花呗总额度怎么和使用额度一样</td>\n",
       "      <td>花呗怎么用零时额度</td>\n",
       "      <td>0</td>\n",
       "    </tr>\n",
       "    <tr>\n",
       "      <th>2</th>\n",
       "      <td>如何邀请好友用花呗</td>\n",
       "      <td>花呗怎么邀请好友</td>\n",
       "      <td>0</td>\n",
       "    </tr>\n",
       "    <tr>\n",
       "      <th>3</th>\n",
       "      <td>昨天花呗充值话费***，怎么只到账***</td>\n",
       "      <td>我在花呗充值的***元话费只到账***</td>\n",
       "      <td>0</td>\n",
       "    </tr>\n",
       "    <tr>\n",
       "      <th>4</th>\n",
       "      <td>蚂蚁花呗，关闭</td>\n",
       "      <td>卖家怎么关闭花呗支付</td>\n",
       "      <td>1</td>\n",
       "    </tr>\n",
       "  </tbody>\n",
       "</table>\n",
       "</div>"
      ],
      "text/plain": [
       "                      0                            1  2\n",
       "0  我购买的是信用卡付款为什么会花呗叫我还款  花呗账单里的东西，我已经付过款了，为什么花呗还要我还款  1\n",
       "1        花呗总额度怎么和使用额度一样                    花呗怎么用零时额度  0\n",
       "2             如何邀请好友用花呗                     花呗怎么邀请好友  0\n",
       "3  昨天花呗充值话费***，怎么只到账***          我在花呗充值的***元话费只到账***  0\n",
       "4               蚂蚁花呗，关闭                   卖家怎么关闭花呗支付  1"
      ]
     },
     "execution_count": 25,
     "metadata": {},
     "output_type": "execute_result"
    }
   ],
   "source": [
    "data2.head()"
   ]
  },
  {
   "cell_type": "code",
   "execution_count": 26,
   "metadata": {},
   "outputs": [
    {
     "data": {
      "text/plain": [
       "0    67118\n",
       "1    14863\n",
       "Name: 2, dtype: int64"
      ]
     },
     "execution_count": 26,
     "metadata": {},
     "output_type": "execute_result"
    }
   ],
   "source": [
    "data1[2].value_counts()"
   ]
  },
  {
   "cell_type": "code",
   "execution_count": 28,
   "metadata": {},
   "outputs": [
    {
     "data": {
      "text/plain": [
       "0    16674\n",
       "1     3822\n",
       "Name: 2, dtype: int64"
      ]
     },
     "execution_count": 28,
     "metadata": {},
     "output_type": "execute_result"
    }
   ],
   "source": [
    "data2[2].value_counts()"
   ]
  },
  {
   "cell_type": "code",
   "execution_count": null,
   "metadata": {},
   "outputs": [],
   "source": []
  }
 ],
 "metadata": {
  "kernelspec": {
   "display_name": "Python 3",
   "language": "python",
   "name": "python3"
  },
  "language_info": {
   "codemirror_mode": {
    "name": "ipython",
    "version": 3
   },
   "file_extension": ".py",
   "mimetype": "text/x-python",
   "name": "python",
   "nbconvert_exporter": "python",
   "pygments_lexer": "ipython3",
   "version": "3.6.1"
  }
 },
 "nbformat": 4,
 "nbformat_minor": 4
}
